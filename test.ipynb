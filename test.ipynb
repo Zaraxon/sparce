{
 "cells": [
  {
   "cell_type": "code",
   "execution_count": 9,
   "metadata": {},
   "outputs": [],
   "source": [
    "from pathlib import Path\n",
    "import os\n",
    "from typing import TextIO\n",
    "\n",
    "from sparce.analyze import activities, Activity\n",
    "from sparce.record import SyscallRecord\n",
    "\n",
    "from sparce.util import parse_auto\n",
    "\n",
    "DIR = Path(r'C:\\Users\\Zaraxon\\Desktop\\IIE\\MT-Research\\plang离线环境搭建\\strace_process\\data')\n",
    "\n",
    "failed_log = open(DIR / 'OUT' / 'failed.txt', 'w')\n",
    "\n",
    "\n",
    "def get_activities(file: TextIO):\n",
    "    syscalls, _, _, failed = parse_auto(file.readlines(), True)\n",
    "    return activities(syscalls)\n",
    "\n",
    "all_acts:list[Activity] = list()\n",
    "\n",
    "for direntry in os.scandir(DIR/'20240707_0013'):\n",
    "    if direntry.is_file():\n",
    "        with open(direntry.path, 'r') as entry:\n",
    "            all_acts += get_activities(entry)\n",
    "\n",
    "for act in all_acts:\n",
    "    if act.keyword is not None and \\\n",
    "        act[0].syscall == 'socket':\n",
    "        print(act,'\\b')"
   ]
  }
 ],
 "metadata": {
  "kernelspec": {
   "display_name": "base",
   "language": "python",
   "name": "python3"
  },
  "language_info": {
   "codemirror_mode": {
    "name": "ipython",
    "version": 3
   },
   "file_extension": ".py",
   "mimetype": "text/x-python",
   "name": "python",
   "nbconvert_exporter": "python",
   "pygments_lexer": "ipython3",
   "version": "3.11.3"
  }
 },
 "nbformat": 4,
 "nbformat_minor": 2
}
